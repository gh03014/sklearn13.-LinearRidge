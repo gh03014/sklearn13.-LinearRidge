{
 "cells": [
  {
   "cell_type": "code",
   "execution_count": 1,
   "metadata": {},
   "outputs": [],
   "source": [
    "import pandas as pd\n",
    "import matplotlib as mpl\n",
    "import matplotlib.pyplot as plt\n",
    "from matplotlib.widgets import Button\n",
    "from matplotlib import font_manager, rc\n",
    "import numpy as np\n",
    "import csv\n",
    "import seaborn as sns\n",
    "from sklearn.preprocessing import MinMaxScaler, RobustScaler, StandardScaler\n",
    "from sklearn.model_selection import train_test_split\n",
    "from sklearn.linear_model import Ridge # 릿지회귀"
   ]
  },
  {
   "cell_type": "code",
   "execution_count": 2,
   "metadata": {},
   "outputs": [],
   "source": [
    "# 한글 폰트 적용 - 한글깨짐 방지\n",
    "font_name = font_manager.FontProperties(fname='c:/Windows/Fonts/malgun.ttf').get_name()\n",
    "rc('font', family=font_name)\n",
    "plt.rcParams['axes.unicode_minus'] = False"
   ]
  },
  {
   "cell_type": "code",
   "execution_count": 3,
   "metadata": {},
   "outputs": [
    {
     "data": {
      "text/html": [
       "<div>\n",
       "<style scoped>\n",
       "    .dataframe tbody tr th:only-of-type {\n",
       "        vertical-align: middle;\n",
       "    }\n",
       "\n",
       "    .dataframe tbody tr th {\n",
       "        vertical-align: top;\n",
       "    }\n",
       "\n",
       "    .dataframe thead th {\n",
       "        text-align: right;\n",
       "    }\n",
       "</style>\n",
       "<table border=\"1\" class=\"dataframe\">\n",
       "  <thead>\n",
       "    <tr style=\"text-align: right;\">\n",
       "      <th></th>\n",
       "      <th>Unnamed: 0</th>\n",
       "      <th>번호</th>\n",
       "      <th>성별</th>\n",
       "      <th>연령</th>\n",
       "      <th>신장</th>\n",
       "      <th>체중</th>\n",
       "      <th>허리둘레</th>\n",
       "      <th>수축기혈압</th>\n",
       "      <th>이완기혈압</th>\n",
       "      <th>식전혈당</th>\n",
       "      <th>총콜레스테롤</th>\n",
       "      <th>흡연상태</th>\n",
       "      <th>음주여부</th>\n",
       "    </tr>\n",
       "  </thead>\n",
       "  <tbody>\n",
       "    <tr>\n",
       "      <th>0</th>\n",
       "      <td>0</td>\n",
       "      <td>1</td>\n",
       "      <td>1</td>\n",
       "      <td>40</td>\n",
       "      <td>170</td>\n",
       "      <td>75</td>\n",
       "      <td>90.0</td>\n",
       "      <td>120.0</td>\n",
       "      <td>80.0</td>\n",
       "      <td>99.0</td>\n",
       "      <td>193.0</td>\n",
       "      <td>1.0</td>\n",
       "      <td>1.0</td>\n",
       "    </tr>\n",
       "    <tr>\n",
       "      <th>1</th>\n",
       "      <td>1</td>\n",
       "      <td>2</td>\n",
       "      <td>1</td>\n",
       "      <td>35</td>\n",
       "      <td>180</td>\n",
       "      <td>80</td>\n",
       "      <td>89.0</td>\n",
       "      <td>130.0</td>\n",
       "      <td>82.0</td>\n",
       "      <td>106.0</td>\n",
       "      <td>228.0</td>\n",
       "      <td>3.0</td>\n",
       "      <td>0.0</td>\n",
       "    </tr>\n",
       "    <tr>\n",
       "      <th>2</th>\n",
       "      <td>2</td>\n",
       "      <td>3</td>\n",
       "      <td>1</td>\n",
       "      <td>45</td>\n",
       "      <td>165</td>\n",
       "      <td>75</td>\n",
       "      <td>91.0</td>\n",
       "      <td>120.0</td>\n",
       "      <td>70.0</td>\n",
       "      <td>98.0</td>\n",
       "      <td>136.0</td>\n",
       "      <td>1.0</td>\n",
       "      <td>0.0</td>\n",
       "    </tr>\n",
       "    <tr>\n",
       "      <th>3</th>\n",
       "      <td>3</td>\n",
       "      <td>4</td>\n",
       "      <td>1</td>\n",
       "      <td>55</td>\n",
       "      <td>175</td>\n",
       "      <td>80</td>\n",
       "      <td>91.0</td>\n",
       "      <td>145.0</td>\n",
       "      <td>87.0</td>\n",
       "      <td>95.0</td>\n",
       "      <td>201.0</td>\n",
       "      <td>1.0</td>\n",
       "      <td>0.0</td>\n",
       "    </tr>\n",
       "    <tr>\n",
       "      <th>4</th>\n",
       "      <td>4</td>\n",
       "      <td>5</td>\n",
       "      <td>1</td>\n",
       "      <td>55</td>\n",
       "      <td>165</td>\n",
       "      <td>60</td>\n",
       "      <td>80.0</td>\n",
       "      <td>138.0</td>\n",
       "      <td>82.0</td>\n",
       "      <td>101.0</td>\n",
       "      <td>199.0</td>\n",
       "      <td>1.0</td>\n",
       "      <td>0.0</td>\n",
       "    </tr>\n",
       "    <tr>\n",
       "      <th>...</th>\n",
       "      <td>...</td>\n",
       "      <td>...</td>\n",
       "      <td>...</td>\n",
       "      <td>...</td>\n",
       "      <td>...</td>\n",
       "      <td>...</td>\n",
       "      <td>...</td>\n",
       "      <td>...</td>\n",
       "      <td>...</td>\n",
       "      <td>...</td>\n",
       "      <td>...</td>\n",
       "      <td>...</td>\n",
       "      <td>...</td>\n",
       "    </tr>\n",
       "    <tr>\n",
       "      <th>199772</th>\n",
       "      <td>199772</td>\n",
       "      <td>199996</td>\n",
       "      <td>1</td>\n",
       "      <td>45</td>\n",
       "      <td>170</td>\n",
       "      <td>100</td>\n",
       "      <td>107.0</td>\n",
       "      <td>135.0</td>\n",
       "      <td>88.0</td>\n",
       "      <td>112.0</td>\n",
       "      <td>247.0</td>\n",
       "      <td>3.0</td>\n",
       "      <td>1.0</td>\n",
       "    </tr>\n",
       "    <tr>\n",
       "      <th>199773</th>\n",
       "      <td>199773</td>\n",
       "      <td>199997</td>\n",
       "      <td>2</td>\n",
       "      <td>30</td>\n",
       "      <td>155</td>\n",
       "      <td>45</td>\n",
       "      <td>63.0</td>\n",
       "      <td>107.0</td>\n",
       "      <td>61.0</td>\n",
       "      <td>83.0</td>\n",
       "      <td>151.0</td>\n",
       "      <td>1.0</td>\n",
       "      <td>1.0</td>\n",
       "    </tr>\n",
       "    <tr>\n",
       "      <th>199774</th>\n",
       "      <td>199774</td>\n",
       "      <td>199998</td>\n",
       "      <td>1</td>\n",
       "      <td>55</td>\n",
       "      <td>160</td>\n",
       "      <td>70</td>\n",
       "      <td>91.0</td>\n",
       "      <td>100.0</td>\n",
       "      <td>76.0</td>\n",
       "      <td>100.0</td>\n",
       "      <td>222.0</td>\n",
       "      <td>1.0</td>\n",
       "      <td>0.0</td>\n",
       "    </tr>\n",
       "    <tr>\n",
       "      <th>199775</th>\n",
       "      <td>199775</td>\n",
       "      <td>199999</td>\n",
       "      <td>1</td>\n",
       "      <td>40</td>\n",
       "      <td>170</td>\n",
       "      <td>75</td>\n",
       "      <td>88.2</td>\n",
       "      <td>147.0</td>\n",
       "      <td>89.0</td>\n",
       "      <td>81.0</td>\n",
       "      <td>125.0</td>\n",
       "      <td>3.0</td>\n",
       "      <td>1.0</td>\n",
       "    </tr>\n",
       "    <tr>\n",
       "      <th>199776</th>\n",
       "      <td>199776</td>\n",
       "      <td>200000</td>\n",
       "      <td>1</td>\n",
       "      <td>60</td>\n",
       "      <td>165</td>\n",
       "      <td>60</td>\n",
       "      <td>83.0</td>\n",
       "      <td>112.0</td>\n",
       "      <td>66.0</td>\n",
       "      <td>104.0</td>\n",
       "      <td>212.0</td>\n",
       "      <td>3.0</td>\n",
       "      <td>0.0</td>\n",
       "    </tr>\n",
       "  </tbody>\n",
       "</table>\n",
       "<p>199777 rows × 13 columns</p>\n",
       "</div>"
      ],
      "text/plain": [
       "        Unnamed: 0      번호  성별  연령   신장   체중   허리둘레  수축기혈압  이완기혈압   식전혈당  \\\n",
       "0                0       1   1  40  170   75   90.0  120.0   80.0   99.0   \n",
       "1                1       2   1  35  180   80   89.0  130.0   82.0  106.0   \n",
       "2                2       3   1  45  165   75   91.0  120.0   70.0   98.0   \n",
       "3                3       4   1  55  175   80   91.0  145.0   87.0   95.0   \n",
       "4                4       5   1  55  165   60   80.0  138.0   82.0  101.0   \n",
       "...            ...     ...  ..  ..  ...  ...    ...    ...    ...    ...   \n",
       "199772      199772  199996   1  45  170  100  107.0  135.0   88.0  112.0   \n",
       "199773      199773  199997   2  30  155   45   63.0  107.0   61.0   83.0   \n",
       "199774      199774  199998   1  55  160   70   91.0  100.0   76.0  100.0   \n",
       "199775      199775  199999   1  40  170   75   88.2  147.0   89.0   81.0   \n",
       "199776      199776  200000   1  60  165   60   83.0  112.0   66.0  104.0   \n",
       "\n",
       "        총콜레스테롤  흡연상태  음주여부  \n",
       "0        193.0   1.0   1.0  \n",
       "1        228.0   3.0   0.0  \n",
       "2        136.0   1.0   0.0  \n",
       "3        201.0   1.0   0.0  \n",
       "4        199.0   1.0   0.0  \n",
       "...        ...   ...   ...  \n",
       "199772   247.0   3.0   1.0  \n",
       "199773   151.0   1.0   1.0  \n",
       "199774   222.0   1.0   0.0  \n",
       "199775   125.0   3.0   1.0  \n",
       "199776   212.0   3.0   0.0  \n",
       "\n",
       "[199777 rows x 13 columns]"
      ]
     },
     "execution_count": 3,
     "metadata": {},
     "output_type": "execute_result"
    }
   ],
   "source": [
    "# csv 파일 읽어와서 데이터프레임에 저장\n",
    "df_source = pd.read_csv('NHIS_OPEN_GJ_2017_3.csv', encoding='cp949')\n",
    "df_source = df_source.drop_duplicates() # 중복값 제거\n",
    "df_source = df_source.dropna() # 결측값 제거\n",
    "df_source"
   ]
  },
  {
   "cell_type": "code",
   "execution_count": 8,
   "metadata": {},
   "outputs": [],
   "source": [
    "del x, y, x_train, x_test, y_train, y_test, lr #메모리 반환, 초기화"
   ]
  },
  {
   "cell_type": "code",
   "execution_count": 9,
   "metadata": {},
   "outputs": [],
   "source": [
    "# 이번에는 다른 특성을 사용하였다\n",
    "#체중 특성과 신장 특성을 적용\n",
    "x = df_source[['체중']]\n",
    "y = df_source['신장']\n",
    "\n",
    "# 훈련, 테스트 셋 분리\n",
    "# test_size=0.3으로 설정하여 훈련:테스트 비율을 7:3으로\n",
    "x_train, x_test, y_train, y_test = train_test_split(x, y, test_size=0.3, random_state=42)"
   ]
  },
  {
   "cell_type": "code",
   "execution_count": 10,
   "metadata": {},
   "outputs": [
    {
     "name": "stdout",
     "output_type": "stream",
     "text": [
      "테스트 셋 정확도: 0.4415\n",
      "훈련 셋 정확도: 0.4461\n"
     ]
    }
   ],
   "source": [
    "lr = Ridge() # 선형회귀 모델 생성\n",
    "lr = lr.fit(x_train, y_train)\n",
    "\n",
    "# 테스트 셋 정확도 \n",
    "test_pred = lr.predict(x_test)\n",
    "accuracy = float(lr.score(x_test, y_test))\n",
    "print('테스트 셋 정확도: %.4f' %accuracy)\n",
    "\n",
    "# 훈련 셋 정확도 \n",
    "train_pred = lr.predict(x_train)\n",
    "accuracy = float(lr.score(x_train, y_train))\n",
    "print('훈련 셋 정확도: %.4f' %accuracy)"
   ]
  },
  {
   "cell_type": "code",
   "execution_count": 12,
   "metadata": {},
   "outputs": [],
   "source": [
    "#특성을 달리한 결과 이전과 비교하여 정확도가 높아졌다. 특성에 따라 결과가 달라짐을 확인할 수 있다"
   ]
  },
  {
   "cell_type": "code",
   "execution_count": 11,
   "metadata": {},
   "outputs": [
    {
     "data": {
      "text/plain": [
       "Text(0.5, 1.0, '릿지 회귀 훈련 데이터 예측')"
      ]
     },
     "execution_count": 11,
     "metadata": {},
     "output_type": "execute_result"
    },
    {
     "data": {
      "image/png": "[encoded data removed]",
      "text/plain": [
       "<Figure size 1152x504 with 2 Axes>"
      ]
     },
     "metadata": {
      "needs_background": "light"
     },
     "output_type": "display_data"
    }
   ],
   "source": [
    "# 그래프로 나타내기\n",
    "fig, ax = plt.subplots(1, 2, figsize=(16, 7))\n",
    "x = np.array(x)\n",
    "ax[0].scatter(x, y)\n",
    "ax[0].plot(x_test, test_pred, color='b')\n",
    "ax[0].set_title('릿지 회귀 테스트 데이터 예측')\n",
    "ax[1].scatter(x, y)\n",
    "ax[1].plot(x_train, train_pred, color='b')\n",
    "ax[1].set_title('릿지 회귀 훈련 데이터 예측')"
   ]
  },
  {
   "cell_type": "code",
   "execution_count": 12,
   "metadata": {},
   "outputs": [],
   "source": [
    "# 이전과 비교하여 선형회귀 선이 더욱 가운데 부분에 가깝게 그려짐을 확인할 수 있다"
   ]
  },
  {
   "cell_type": "code",
   "execution_count": 13,
   "metadata": {},
   "outputs": [],
   "source": [
    "del x, y, x_train, x_test, y_train, y_test, lr #메모리 반환, 초기화"
   ]
  },
  {
   "cell_type": "code",
   "execution_count": 16,
   "metadata": {},
   "outputs": [],
   "source": [
    "#이번에는 데이터를 평균0, 분산1로 표준화 한 후 알고리즘을 실행해본다\n",
    "\n",
    "x = df_source[['체중']]\n",
    "y = df_source[['신장']]\n",
    "             \n",
    "# 훈련, 테스트 셋 분리\n",
    "# test_size=0.3으로 설정하여 훈련:테스트 비율을 7:3으로\n",
    "x_train, x_test, y_train, y_test = train_test_split(x, y, test_size=0.3, random_state=42)\n",
    "\n",
    "# 표준화 전처리 적용 후 알고리즘 결과 구현\n",
    "scaler = StandardScaler()\n",
    "scaler.fit(x_train)\n",
    "x_train_scaler = scaler.transform(x_train)\n",
    "x_train_scaler = pd.DataFrame(x_train_scaler, columns = x_train.columns) # 표준화를 적용한 이후 다시 컬럼명을 지정해야 한다 \n",
    "\n",
    "del scaler\n",
    "scaler = StandardScaler()\n",
    "scaler.fit(x_test)\n",
    "x_test_scaler = scaler.transform(x_test)\n",
    "x_test_scaler = pd.DataFrame(x_test_scaler, columns = x_test.columns)\n",
    "\n",
    "del scaler\n",
    "scaler = StandardScaler()\n",
    "scaler.fit(y_train)\n",
    "y_train_scaler = scaler.transform(y_train)\n",
    "y_train_scaler = pd.DataFrame(y_train_scaler, columns = y_train.columns)\n",
    "\n",
    "del scaler\n",
    "scaler = StandardScaler()\n",
    "scaler.fit(y_test)\n",
    "y_test_scaler = scaler.transform(y_test)\n",
    "y_test_scaler = pd.DataFrame(y_test_scaler, columns = y_test.columns)"
   ]
  },
  {
   "cell_type": "code",
   "execution_count": 17,
   "metadata": {},
   "outputs": [
    {
     "name": "stdout",
     "output_type": "stream",
     "text": [
      "테스트 셋 정확도: 0.4415\n",
      "훈련 셋 정확도: 0.4461\n"
     ]
    }
   ],
   "source": [
    "lr = Ridge() # 선형회귀 모델 생성\n",
    "lr = lr.fit(x_train_scaler, y_train_scaler)\n",
    "\n",
    "# 테스트 셋 정확도 \n",
    "test_pred = lr.predict(x_test_scaler)\n",
    "accuracy = float(lr.score(x_test_scaler, y_test_scaler))\n",
    "print('테스트 셋 정확도: %.4f' %accuracy)\n",
    "\n",
    "# 훈련 셋 정확도 \n",
    "train_pred = lr.predict(x_train_scaler)\n",
    "accuracy = float(lr.score(x_train_scaler, y_train_scaler))\n",
    "print('훈련 셋 정확도: %.4f' %accuracy)"
   ]
  },
  {
   "cell_type": "code",
   "execution_count": 18,
   "metadata": {},
   "outputs": [],
   "source": [
    "# 데이터를 표준화 한 결과 이전과 큰 차이가 없다"
   ]
  },
  {
   "cell_type": "code",
   "execution_count": 19,
   "metadata": {},
   "outputs": [
    {
     "data": {
      "text/plain": [
       "Text(0.5, 1.0, '선형 회귀 훈련 데이터 예측')"
      ]
     },
     "execution_count": 19,
     "metadata": {},
     "output_type": "execute_result"
    },
    {
     "data": {
      "image/png": "[encoded data removed]",
      "text/plain": [
       "<Figure size 1152x504 with 2 Axes>"
      ]
     },
     "metadata": {
      "needs_background": "light"
     },
     "output_type": "display_data"
    }
   ],
   "source": [
    "# 그래프로 나타내기\n",
    "fig, ax = plt.subplots(1, 2, figsize=(16, 7))\n",
    "x = np.array(x)\n",
    "ax[0].scatter(x, y)\n",
    "ax[0].plot(x_test_scaler, test_pred, color='b')\n",
    "ax[0].set_title('선형 회귀 테스트 데이터 예측')\n",
    "ax[1].scatter(x, y)\n",
    "ax[1].plot(x_train_scaler, train_pred, color='b')\n",
    "ax[1].set_title('선형 회귀 훈련 데이터 예측')"
   ]
  },
  {
   "cell_type": "code",
   "execution_count": 20,
   "metadata": {},
   "outputs": [],
   "source": [
    "# 데이터를 표준화 한 후 선형회귀 선을 그리면 이전과는 달리 선이 완전히 빈공강 위치에 그려진다"
   ]
  },
  {
   "cell_type": "code",
   "execution_count": 25,
   "metadata": {},
   "outputs": [],
   "source": [
    "del x, y, x_train, x_test, y_train, y_test, lr #메모리 반환, 초기화"
   ]
  },
  {
   "cell_type": "code",
   "execution_count": 26,
   "metadata": {},
   "outputs": [],
   "source": [
    "# 이번에는 다른 특성을 사용하였다\n",
    "#체중 특성과 신장 특성을 적용\n",
    "x = df_source[['체중']]\n",
    "y = df_source['신장']\n",
    "\n",
    "# 훈련, 테스트 셋 분리\n",
    "# test_size=0.3으로 설정하여 훈련:테스트 비율을 7:3으로\n",
    "x_train, x_test, y_train, y_test = train_test_split(x, y, test_size=0.3, random_state=42)"
   ]
  },
  {
   "cell_type": "code",
   "execution_count": 27,
   "metadata": {},
   "outputs": [
    {
     "name": "stdout",
     "output_type": "stream",
     "text": [
      "테스트 셋 정확도: 0.4415\n",
      "훈련 셋 정확도: 0.4461\n"
     ]
    }
   ],
   "source": [
    "#이번에는 alpha값을 100으로 늘려서 계수를 0에 더 가깝게 해보자. 기본값은 1로 지정된다\n",
    "lr = Ridge(alpha=100) # 선형회귀 모델 생성\n",
    "lr = lr.fit(x_train, y_train)\n",
    "\n",
    "# 테스트 셋 정확도 \n",
    "test_pred = lr.predict(x_test)\n",
    "accuracy = float(lr.score(x_test, y_test))\n",
    "print('테스트 셋 정확도: %.4f' %accuracy)\n",
    "\n",
    "# 훈련 셋 정확도 \n",
    "train_pred = lr.predict(x_train)\n",
    "accuracy = float(lr.score(x_train, y_train))\n",
    "print('훈련 셋 정확도: %.4f' %accuracy)"
   ]
  },
  {
   "cell_type": "code",
   "execution_count": 28,
   "metadata": {},
   "outputs": [],
   "source": [
    "#alpha 값을 100으로 증가해도 결과는 이전과 똑같다"
   ]
  },
  {
   "cell_type": "code",
   "execution_count": 29,
   "metadata": {},
   "outputs": [],
   "source": [
    "del x, y, x_train, x_test, y_train, y_test, lr #메모리 반환, 초기화"
   ]
  },
  {
   "cell_type": "code",
   "execution_count": 30,
   "metadata": {},
   "outputs": [],
   "source": [
    "# 이번에는 다른 특성을 사용하였다\n",
    "#체중 특성과 신장 특성을 적용\n",
    "x = df_source[['체중']]\n",
    "y = df_source['신장']\n",
    "\n",
    "# 훈련, 테스트 셋 분리\n",
    "# test_size=0.3으로 설정하여 훈련:테스트 비율을 7:3으로\n",
    "x_train, x_test, y_train, y_test = train_test_split(x, y, test_size=0.3, random_state=42)"
   ]
  },
  {
   "cell_type": "code",
   "execution_count": 31,
   "metadata": {},
   "outputs": [
    {
     "name": "stdout",
     "output_type": "stream",
     "text": [
      "테스트 셋 정확도: 0.4415\n",
      "훈련 셋 정확도: 0.4461\n"
     ]
    }
   ],
   "source": [
    "#이번에는 alpha값을 0.01으로 감소하여 실행해보자. 기본값은 1로 지정된다\n",
    "lr = Ridge(alpha=0.01) # 선형회귀 모델 생성\n",
    "lr = lr.fit(x_train, y_train)\n",
    "\n",
    "# 테스트 셋 정확도 \n",
    "test_pred = lr.predict(x_test)\n",
    "accuracy = float(lr.score(x_test, y_test))\n",
    "print('테스트 셋 정확도: %.4f' %accuracy)\n",
    "\n",
    "# 훈련 셋 정확도 \n",
    "train_pred = lr.predict(x_train)\n",
    "accuracy = float(lr.score(x_train, y_train))\n",
    "print('훈련 셋 정확도: %.4f' %accuracy)"
   ]
  },
  {
   "cell_type": "code",
   "execution_count": 32,
   "metadata": {},
   "outputs": [],
   "source": [
    "# alpha값을 0.01로 감소시켜도 결과가 같았다"
   ]
  },
  {
   "cell_type": "code",
   "execution_count": 33,
   "metadata": {},
   "outputs": [],
   "source": [
    "del x, y, x_train, x_test, y_train, y_test, lr #메모리 반환, 초기화"
   ]
  },
  {
   "cell_type": "code",
   "execution_count": 34,
   "metadata": {},
   "outputs": [],
   "source": [
    "del df_source"
   ]
  },
  {
   "cell_type": "code",
   "execution_count": null,
   "metadata": {},
   "outputs": [],
   "source": []
  }
 ],
 "metadata": {
  "kernelspec": {
   "display_name": "Python 3",
   "language": "python",
   "name": "python3"
  },
  "language_info": {
   "codemirror_mode": {
    "name": "ipython",
    "version": 3
   },
   "file_extension": ".py",
   "mimetype": "text/x-python",
   "name": "python",
   "nbconvert_exporter": "python",
   "pygments_lexer": "ipython3",
   "version": "3.6.7"
  }
 },
 "nbformat": 4,
 "nbformat_minor": 4
}
